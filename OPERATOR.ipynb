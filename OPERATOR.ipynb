{
 "cells": [
  {
   "cell_type": "markdown",
   "id": "cc686f25",
   "metadata": {},
   "source": [
    "<h1> OPERATOR_ARTIMATIKA<h1>"
   ]
  },
  {
   "cell_type": "code",
   "execution_count": 19,
   "id": "2d4ed4d5",
   "metadata": {},
   "outputs": [
    {
     "name": "stdout",
     "output_type": "stream",
     "text": [
      "13\n",
      "7\n",
      "30\n",
      "3.3333333333333335\n",
      "3\n",
      "1000\n",
      "1\n"
     ]
    }
   ],
   "source": [
    "num1 = 10\n",
    "num2 = 3\n",
    "\n",
    "jumlah = num1 + num2\n",
    "kurang = num1 - num2\n",
    "kali = num1 * num2\n",
    "bagi = num1 / num2\n",
    "bagi_bulat = num1 // num2 \n",
    "pangkat = num1 ** num2\n",
    "modulus = num1 % num2\n",
    "\n",
    "print (jumlah)\n",
    "print (kurang)\n",
    "print (kali)\n",
    "print (bagi)\n",
    "print (bagi_bulat)\n",
    "print (pangkat)\n",
    "print (modulus)"
   ]
  },
  {
   "cell_type": "code",
   "execution_count": 58,
   "id": "68c4b3a2",
   "metadata": {},
   "outputs": [
    {
     "name": "stdout",
     "output_type": "stream",
     "text": [
      "15\n",
      "11\n",
      "22\n",
      "7.333333333333333\n",
      "3.0\n",
      "27.0\n",
      "1.0\n",
      "Total : 15\n"
     ]
    }
   ],
   "source": [
    "x = 5 #assignment operator  \n",
    "x +=10 # x = x + 10 => 15\n",
    "print(x)\n",
    "x -=4 # x = x - 4 =>\n",
    "print(x)\n",
    "x *=2 # x = x * 2 =>\n",
    "print(x)\n",
    "x /= 3 # x = x / 3 =>\n",
    "print(x)\n",
    "x //=2 # x = x //2 => 3.0\n",
    "print(x)\n",
    "x **=3 # x = x ** 3 => 27\n",
    "print(x)\n",
    "x %=2 # x = x % 2 => 1\n",
    "print(x)\n",
    "\n",
    "data = [1,2,3,4,5,]\n",
    "total = 0\n",
    "\n",
    "for i in range  (0,5):\n",
    "    total  += data[i]\n",
    "print(\"Total :\", total)"
   ]
  },
  {
   "cell_type": "markdown",
   "id": "31144dfd",
   "metadata": {},
   "source": [
    "<h2>OPERATOR_PERBANDINGAN<h2>"
   ]
  },
  {
   "cell_type": "code",
   "execution_count": 27,
   "id": "b332044b",
   "metadata": {},
   "outputs": [
    {
     "name": "stdout",
     "output_type": "stream",
     "text": [
      "False\n",
      "True\n",
      "True\n",
      "False\n",
      "True\n",
      "False\n"
     ]
    }
   ],
   "source": [
    "bil1  = 8\n",
    "bil2 = 7\n",
    "\n",
    "is_equal = bil1 ==bil2\n",
    "is_not_equal = bil1 != bil2\n",
    "is_greater_than = bil1 > bil2\n",
    "is_less_than = bil1 < bil2\n",
    "is_greater_equal = bil1 >= bil2\n",
    "is_less_equal = bil1 <= bil2\n",
    "\n",
    "#print\n",
    "print(is_equal)\n",
    "print(is_not_equal)\n",
    "print(is_greater_than)\n",
    "print(is_less_than )\n",
    "print(is_greater_equal)\n",
    "print(is_less_equal)"
   ]
  },
  {
   "cell_type": "markdown",
   "id": "adbc9eba",
   "metadata": {},
   "source": [
    "<h2> OPERATOR_LOGIKA <h2>"
   ]
  },
  {
   "cell_type": "code",
   "execution_count": 33,
   "id": "612ffdca",
   "metadata": {},
   "outputs": [
    {
     "name": "stdout",
     "output_type": "stream",
     "text": [
      "True\n",
      "False\n",
      "True\n"
     ]
    }
   ],
   "source": [
    "var1 = 4\n",
    "var2 = 10\n",
    "\n",
    "opr_and = var1  < var2 and var1 <=4 #true\n",
    "opr_or = var1 >= var2 or var1 % 2==1 #False\n",
    "opr_not =  not opr_or\n",
    "print(opr_and)\n",
    "print(opr_or)\n",
    "print(opr_not)"
   ]
  },
  {
   "cell_type": "markdown",
   "id": "a9a53abc",
   "metadata": {},
   "source": [
    "<h2>OPERATOR_IDENTITAS<h2>"
   ]
  },
  {
   "cell_type": "code",
   "execution_count": 41,
   "id": "c4df0dd7",
   "metadata": {},
   "outputs": [
    {
     "name": "stdout",
     "output_type": "stream",
     "text": [
      "True\n",
      "False\n",
      "False\n",
      "True\n",
      "True\n",
      "False\n"
     ]
    }
   ],
   "source": [
    "fruits = [\"Apple\",\"Mangoes\",\"Watermelon\"]\n",
    "my_favorite_fruits = fruits\n",
    "your_fruits = [\"Apple\",\"Mangoes\",\"Watermelon\"]\n",
    "\n",
    "print(fruits is my_favorite_fruits)\n",
    "print(fruits is  your_fruits)\n",
    "print(fruits is not my_favorite_fruits)\n",
    "print(fruits is not your_fruits)\n",
    "a = 5\n",
    "b = 5 #phyton menggunakan metode hashing dalam memberikan nilai variable\n",
    "print (a is b )\n",
    "print(a is not b)"
   ]
  },
  {
   "cell_type": "code",
   "execution_count": 45,
   "id": "569737e8",
   "metadata": {},
   "outputs": [
    {
     "name": "stdout",
     "output_type": "stream",
     "text": [
      "True\n",
      "False\n",
      "False\n",
      "True\n"
     ]
    }
   ],
   "source": [
    "student_names = [\"Andi\",\"Beni\",\"chika\"]\n",
    "print(\"Beni\" in student_names)\n",
    "print(\"Andi\" not in student_names)\n",
    "print(\"Defi\" in student_names)\n",
    "print(\"Defi\" not in student_names)"
   ]
  },
  {
   "cell_type": "markdown",
   "id": "fbc00216",
   "metadata": {},
   "source": [
    "<h2>OPERATOR_BITWIISE<h2>"
   ]
  },
  {
   "cell_type": "code",
   "execution_count": 49,
   "id": "3851a9bf",
   "metadata": {},
   "outputs": [
    {
     "name": "stdout",
     "output_type": "stream",
     "text": [
      "15\n",
      "255\n",
      "240\n"
     ]
    }
   ],
   "source": [
    "nilai_and = 255 & 15 \n",
    "nilai_or = 255 | 15\n",
    "nilai_xor = 255 ^ 15\n",
    "# 11111111\n",
    "# 00001111\n",
    "# --------- xor\n",
    "# 111110000 => 16 + 32 +64 + 128\n",
    "print(nilai_and)\n",
    "print(nilai_or)\n",
    "print(nilai_xor)"
   ]
  },
  {
   "cell_type": "code",
   "execution_count": null,
   "id": "39ffe8d2",
   "metadata": {},
   "outputs": [],
   "source": []
  }
 ],
 "metadata": {
  "kernelspec": {
   "display_name": "Python 3 (ipykernel)",
   "language": "python",
   "name": "python3"
  },
  "language_info": {
   "codemirror_mode": {
    "name": "ipython",
    "version": 3
   },
   "file_extension": ".py",
   "mimetype": "text/x-python",
   "name": "python",
   "nbconvert_exporter": "python",
   "pygments_lexer": "ipython3",
   "version": "3.9.12"
  }
 },
 "nbformat": 4,
 "nbformat_minor": 5
}
